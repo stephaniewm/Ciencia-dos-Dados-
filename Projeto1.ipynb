{
 "cells": [
  {
   "cell_type": "markdown",
   "metadata": {},
   "source": [
    "___# Ciência dos Dados - PROJETO 1\n"
   ]
  },
  {
   "cell_type": "markdown",
   "metadata": {},
   "source": [
    "Stephanie Wertheimer de Mello\n"
   ]
  },
  {
   "cell_type": "markdown",
   "metadata": {},
   "source": [
    "## TÍTULO DO SEU PROJETO"
   ]
  },
  {
   "cell_type": "markdown",
   "metadata": {},
   "source": [
    "___\n",
    "## Introdução\n",
    "\n",
    "\n",
    "Atualmente, o acesso à Internet vem passando por um intenso processo de democratização. O que antes era um prívilégio apenas às camadas economicamente favorecidas, agora está sendo viável à parcela mais pobre da população. De acordo com dados fornecidos pelo IBGE (Instituto Brasileiro de Geografia e Estatística), de 2013 para 2014, o acesso à internet nas residências brasileiras superou os 50%. Em 2013 o índice de casas conectadas era de 48% e em 2014, 54,9%. \n",
    "Esse projeto visa investigar se existe relação entre o a condição das moradias no Brasil e seu acesso à internet. A pesquisa será feita utilizando-se a divisão regional do brasileira, comparando a porcentagem de moradias precárias e a porcentagem de acesso à internet em domicílio, em cada região, em 3 diferentes anos.\n",
    "\n",
    "\n",
    "nivel versus salario minimo\n",
    "\n",
    "\n",
    "#qual é a relação entre o nível das moradias e o avanço da internet por região, em 2013, 2014 e 2015?\n",
    "\n",
    "\n"
   ]
  },
  {
   "cell_type": "markdown",
   "metadata": {},
   "source": [
    "___\n",
    "## Análise e Resultados"
   ]
  },
  {
   "cell_type": "code",
   "execution_count": 1,
   "metadata": {
    "collapsed": true
   },
   "outputs": [],
   "source": [
    "%matplotlib inline\n",
    "import pandas as pd\n",
    "import matplotlib.pyplot as plt\n",
    "import numpy as np\n",
    "import os\n",
    "import math"
   ]
  },
  {
   "cell_type": "code",
   "execution_count": 2,
   "metadata": {},
   "outputs": [
    {
     "name": "stdout",
     "output_type": "stream",
     "text": [
      "Esperamos trabalhar no diretório\n",
      "C:\\Users\\steph\\OneDrive\\Documents\\Engenharia Insper\\2° semestre\\Ciência dos Dados\\Ciencia-dos-Dados-\n"
     ]
    }
   ],
   "source": [
    "print('Esperamos trabalhar no diretório')\n",
    "print(os.getcwd())"
   ]
  },
  {
   "cell_type": "code",
   "execution_count": 3,
   "metadata": {
    "collapsed": true,
    "scrolled": true
   },
   "outputs": [],
   "source": [
    "#Se usar o arquivo compactado como está no dropbox púbico\n",
    "pnad13 = pd.read_csv('DOM2013csv.zip', compression='zip', header=0, sep=',', quotechar='\"')\n",
    "pnad14 = pd.read_csv('DOM2014csv.zip', compression='zip', header=0, sep=',', quotechar='\"')\n",
    "pnad15 = pd.read_csv('DOM2015csv.zip', compression='zip', header=0, sep=',', quotechar='\"')\n"
   ]
  },
  {
   "cell_type": "code",
   "execution_count": 4,
   "metadata": {
    "collapsed": true
   },
   "outputs": [],
   "source": [
    "'''Transformando as Variáveis Qualitativas em Categorias '''\n",
    "\n",
    "#material parede\n",
    "pnad13.V0203 = pnad13.V0203.astype('category')\n",
    "pnad13.V0203.cat.categories = ('Alvenaria', 'MadeiraAparelhada', 'TaipaRevestida', 'MadeiraAproveitada', 'Palha', 'Outro')\n",
    "pnad14.V0203 = pnad14.V0203.astype('category')\n",
    "pnad14.V0203.cat.categories = ('Alvenaria', 'MadeiraAparelhada', 'TaipaRevestida', 'MadeiraAproveitada', 'Palha', 'Outro')\n",
    "pnad15.V0203 = pnad15.V0203.astype('category')\n",
    "pnad15.V0203.cat.categories = ('Alvenaria', 'MadeiraAparelhada', 'TaipaRevestida', 'MadeiraAproveitada', 'Palha', 'Outro')\n",
    "\n",
    "#água canalizada\n",
    "pnad13.V0211 = pnad13.V0211.astype('category')\n",
    "pnad13.V0211.cat.categories = ('Sim', 'Não')\n",
    "pnad14.V0211 = pnad14.V0211.astype('category')\n",
    "pnad14.V0211.cat.categories = ('Sim', 'Não')\n",
    "pnad15.V0211 = pnad15.V0211.astype('category')\n",
    "pnad15.V0211.cat.categories = ('Sim', 'Não')\n",
    "\n",
    "#destino lixo\n",
    "pnad13.V0218 = pnad13.V0218.astype('category')\n",
    "pnad13.V0218.cat.categories = ('ColetaDireta', 'ColetaIndireta', 'Queimado/Enterrado', 'TerrenoBaldio', 'JogadoÁgua', 'Outro' )\n",
    "pnad14.V0218 = pnad14.V0218.astype('category')\n",
    "pnad14.V0218.cat.categories = ('ColetaDireta', 'ColetaIndireta', 'Queimado/Enterrado', 'TerrenoBaldio', 'JogadoÁgua', 'Outro' )\n",
    "pnad15.V0218 = pnad15.V0218.astype('category')\n",
    "pnad15.V0218.cat.categories = ('ColetaDireta', 'ColetaIndireta', 'Queimado/Enterrado', 'TerrenoBaldio', 'JogadoÁgua', 'Outro' )\n",
    "\n",
    "#internet em domicílio\n",
    "pnad13.V02322 = pnad13.V02322.astype('category')\n",
    "pnad13.V02322.cat.categories = ('Sim', 'Não')\n",
    "pnad14.V02322 = pnad14.V02322.astype('category')\n",
    "pnad14.V02322.cat.categories = ('Sim', 'Não')\n",
    "pnad15.V02322 = pnad15.V02322.astype('category')\n",
    "pnad15.V02322.cat.categories = ('Sim', 'Não')\n",
    "\n",
    "#forma de saneamento\n",
    "pnad13.V0217 = pnad13.V0217.astype('category')\n",
    "pnad13.V0217.cat.categories = ('RedeColetora', 'FossaSeptica1', 'FossaSeptica2', 'FossaRud', 'Vala','Água', 'Outro')\n",
    "pnad14.V0217 = pnad14.V0217.astype('category')\n",
    "pnad14.V0217.cat.categories = ('RedeColetora', 'FossaSeptica1', 'FossaSeptica2', 'FossaRud', 'Vala','Água', 'Outro')\n",
    "pnad15.V0217 = pnad15.V0217.astype('category')\n",
    "pnad15.V0217.cat.categories = ('RedeColetora', 'FossaSeptica1', 'FossaSeptica2', 'FossaRud', 'Vala','Água', 'Outro')"
   ]
  },
  {
   "cell_type": "code",
   "execution_count": 5,
   "metadata": {
    "collapsed": true
   },
   "outputs": [],
   "source": [
    "'''Definindo as Cinco Regiões Brasileiras'''\n",
    "\n",
    "\n",
    "pnad13.loc[(pnad13.UF==11)|(pnad13.UF==12)|(pnad13.UF==13)|(pnad13.UF==14)|(pnad13.UF==15)|(pnad13.UF==16)|(pnad13.UF==17),'Reg'] = 'Norte'\n",
    "pnad13.loc[(pnad13.UF==21)|(pnad13.UF==22)|(pnad13.UF==23)|(pnad13.UF==24)|(pnad13.UF==25)|(pnad13.UF==26)|(pnad13.UF==27)|(pnad13.UF==28)|(pnad13.UF==29), 'Reg']='Nordeste'\n",
    "pnad13.loc[(pnad13.UF==31)|(pnad13.UF==32)|(pnad13.UF==33)|(pnad13.UF==35), 'Reg']='Sudeste'\n",
    "pnad13.loc[(pnad13.UF==41)|(pnad13.UF==42)|(pnad13.UF==43), 'Reg']='Sul'\n",
    "pnad13.loc[(pnad13.UF==50)|(pnad13.UF==51)|(pnad13.UF==52)|(pnad13.UF==53), 'Reg']='Centro-Oeste'\n",
    "\n",
    "\n",
    "pnad14.loc[(pnad14.UF==11)|(pnad14.UF==12)|(pnad14.UF==13)|(pnad14.UF==14)|(pnad14.UF==15)|(pnad14.UF==16)|(pnad14.UF==17),'Reg'] = 'Norte'\n",
    "pnad14.loc[(pnad14.UF==21)|(pnad14.UF==22)|(pnad14.UF==23)|(pnad14.UF==24)|(pnad14.UF==25)|(pnad14.UF==26)|(pnad14.UF==27)|(pnad14.UF==28)|(pnad14.UF==29), 'Reg']='Nordeste'\n",
    "pnad14.loc[(pnad14.UF==31)|(pnad14.UF==32)|(pnad14.UF==33)|(pnad14.UF==35), 'Reg']='Sudeste'\n",
    "pnad14.loc[(pnad14.UF==41)|(pnad14.UF==42)|(pnad14.UF==43), 'Reg']='Sul'\n",
    "pnad14.loc[(pnad14.UF==50)|(pnad14.UF==51)|(pnad14.UF==52)|(pnad14.UF==53), 'Reg']='Centro-Oeste'\n",
    "\n",
    "\n",
    "pnad15.loc[(pnad15.UF==11)|(pnad15.UF==12)|(pnad15.UF==13)|(pnad15.UF==14)|(pnad15.UF==15)|(pnad15.UF==16)|(pnad15.UF==17),'Reg'] = 'Norte'\n",
    "pnad15.loc[(pnad15.UF==21)|(pnad15.UF==22)|(pnad15.UF==23)|(pnad15.UF==24)|(pnad15.UF==25)|(pnad15.UF==26)|(pnad15.UF==27)|(pnad15.UF==28)|(pnad15.UF==29), 'Reg']='Nordeste'\n",
    "pnad15.loc[(pnad15.UF==31)|(pnad15.UF==32)|(pnad15.UF==33)|(pnad15.UF==35), 'Reg']='Sudeste'\n",
    "pnad15.loc[(pnad15.UF==41)|(pnad15.UF==42)|(pnad15.UF==43), 'Reg']='Sul'\n",
    "pnad15.loc[(pnad15.UF==50)|(pnad15.UF==51)|(pnad15.UF==52)|(pnad15.UF==53), 'Reg']='Centro-Oeste'"
   ]
  },
  {
   "cell_type": "markdown",
   "metadata": {},
   "source": [
    "## Categorização das Moradias\n",
    "\n",
    "De acordo com o IBGE, em 2013, o PNAD considerou que as paredes poderiam ser feitas de materiais duráveis ou não duráveis, e como vivemos em um país tropical, com muita chuva, o material do qual uma casa é feita colabora para a compreensão da qualidade daquela moradia. Baseado nessa classificação, o material das paredes das casas será classificado com bom, quando for   http://biblioteca.ibge.gov.br/visualizacao/periodicos/59/pnad_2013_v33_br.pdf'\n"
   ]
  },
  {
   "cell_type": "code",
   "execution_count": 20,
   "metadata": {},
   "outputs": [
    {
     "name": "stdout",
     "output_type": "stream",
     "text": [
      "DataFrame 2013\n"
     ]
    },
    {
     "data": {
      "text/html": [
       "<div>\n",
       "<style>\n",
       "    .dataframe thead tr:only-child th {\n",
       "        text-align: right;\n",
       "    }\n",
       "\n",
       "    .dataframe thead th {\n",
       "        text-align: left;\n",
       "    }\n",
       "\n",
       "    .dataframe tbody tr th {\n",
       "        vertical-align: top;\n",
       "    }\n",
       "</style>\n",
       "<table border=\"1\" class=\"dataframe\">\n",
       "  <thead>\n",
       "    <tr style=\"text-align: right;\">\n",
       "      <th></th>\n",
       "      <th>Região</th>\n",
       "      <th>Saneamento</th>\n",
       "      <th>MaterialParede</th>\n",
       "      <th>ÁguaCanalizada</th>\n",
       "      <th>DestinoLixo</th>\n",
       "      <th>InternetDomicílio</th>\n",
       "      <th>Nível</th>\n",
       "      <th>Renda</th>\n",
       "    </tr>\n",
       "  </thead>\n",
       "  <tbody>\n",
       "    <tr>\n",
       "      <th>2</th>\n",
       "      <td>Norte</td>\n",
       "      <td>FossaRud</td>\n",
       "      <td>Alvenaria</td>\n",
       "      <td>Sim</td>\n",
       "      <td>ColetaDireta</td>\n",
       "      <td>Não</td>\n",
       "      <td>Ruim</td>\n",
       "      <td>350.0</td>\n",
       "    </tr>\n",
       "    <tr>\n",
       "      <th>3</th>\n",
       "      <td>Norte</td>\n",
       "      <td>FossaSeptica1</td>\n",
       "      <td>MadeiraAparelhada</td>\n",
       "      <td>Sim</td>\n",
       "      <td>ColetaDireta</td>\n",
       "      <td>Não</td>\n",
       "      <td>Ruim</td>\n",
       "      <td>339.0</td>\n",
       "    </tr>\n",
       "    <tr>\n",
       "      <th>4</th>\n",
       "      <td>Norte</td>\n",
       "      <td>FossaSeptica1</td>\n",
       "      <td>Alvenaria</td>\n",
       "      <td>Sim</td>\n",
       "      <td>ColetaDireta</td>\n",
       "      <td>Não</td>\n",
       "      <td>Ruim</td>\n",
       "      <td>266.0</td>\n",
       "    </tr>\n",
       "    <tr>\n",
       "      <th>5</th>\n",
       "      <td>Norte</td>\n",
       "      <td>FossaSeptica1</td>\n",
       "      <td>Alvenaria</td>\n",
       "      <td>Sim</td>\n",
       "      <td>ColetaDireta</td>\n",
       "      <td>Não</td>\n",
       "      <td>Ruim</td>\n",
       "      <td>400.0</td>\n",
       "    </tr>\n",
       "    <tr>\n",
       "      <th>6</th>\n",
       "      <td>Norte</td>\n",
       "      <td>FossaSeptica1</td>\n",
       "      <td>Alvenaria</td>\n",
       "      <td>Sim</td>\n",
       "      <td>ColetaDireta</td>\n",
       "      <td>Não</td>\n",
       "      <td>Ruim</td>\n",
       "      <td>411.0</td>\n",
       "    </tr>\n",
       "  </tbody>\n",
       "</table>\n",
       "</div>"
      ],
      "text/plain": [
       "  Região     Saneamento     MaterialParede ÁguaCanalizada   DestinoLixo  \\\n",
       "2  Norte       FossaRud          Alvenaria            Sim  ColetaDireta   \n",
       "3  Norte  FossaSeptica1  MadeiraAparelhada            Sim  ColetaDireta   \n",
       "4  Norte  FossaSeptica1          Alvenaria            Sim  ColetaDireta   \n",
       "5  Norte  FossaSeptica1          Alvenaria            Sim  ColetaDireta   \n",
       "6  Norte  FossaSeptica1          Alvenaria            Sim  ColetaDireta   \n",
       "\n",
       "  InternetDomicílio Nível  Renda  \n",
       "2               Não  Ruim  350.0  \n",
       "3               Não  Ruim  339.0  \n",
       "4               Não  Ruim  266.0  \n",
       "5               Não  Ruim  400.0  \n",
       "6               Não  Ruim  411.0  "
      ]
     },
     "execution_count": 20,
     "metadata": {},
     "output_type": "execute_result"
    }
   ],
   "source": [
    "'''Delimitando Dataframe 2013'''\n",
    "\n",
    "data13 = pd.DataFrame(pnad13.loc[:,['Reg','V0217','V0203','V0211','V0218','V02322','V4621']]).dropna()\n",
    "\n",
    "data13['Nível']='Médio'\n",
    "\n",
    "\n",
    "data13.columns=['Região','Saneamento','MaterialParede', 'ÁguaCanalizada', 'DestinoLixo','InternetDomicílio', 'RendMensalPerCapita', 'Nível']\n",
    "\n",
    "\n",
    "data13.loc[(data13.RendMensalPerCapita != 999999999999), \"Renda\"] = data13.RendMensalPerCapita\n",
    "\n",
    "data13 = data13.drop('RendMensalPerCapita', 1)\n",
    "\n",
    " \n",
    "\n",
    "\n",
    "data13.loc[((data13.MaterialParede=='Alvenaria')|(data13.MaterialParede=='MadeiraAparelhada')|(data13.MaterialParede=='TaipaRevestida'))&(data13.ÁguaCanalizada=='Sim')&((data13.DestinoLixo=='ColetaIndireta')|(data13.DestinoLixo=='ColetaDireta'))&(data13.Saneamento=='RedeColetora'), 'Nível']= 'Bom'\n",
    "data13.loc[((data13.MaterialParede=='MadeiraAproveitada')|(data13.MaterialParede== 'Palha')|(data13.MaterialParede=='Outro'))&(data13.ÁguaCanalizada=='Não')&((data13.DestinoLixo=='Queimado/Enterrado')|(data13.DestinoLixo=='TerrenoBaldio')|(data13.DestinoLixo=='JogadoÁgua')|(data13.DestinoLixo=='Outro'))&((data13.Saneamento=='FossaRud')|(data13.Saneamento=='FossaSeptica1')|(data13.Saneamento=='FossaSeptica2')|(data13.Saneamento=='Vala')|(data13.Saneamento=='Água')|(data13.Saneamento=='Outro')), 'Nível']= 'Ruim'\n",
    "data13.loc[(data13.Saneamento != \"RedeColetora\"), \"Nível\"] = \"Ruim\"\n",
    "\n",
    "\n",
    "print(\"DataFrame 2013\")\n",
    "data13.head()"
   ]
  },
  {
   "cell_type": "code",
   "execution_count": 21,
   "metadata": {},
   "outputs": [
    {
     "data": {
      "text/plain": [
       "Bom      60936\n",
       "Ruim     51589\n",
       "Médio      696\n",
       "Name: Nível, dtype: int64"
      ]
     },
     "execution_count": 21,
     "metadata": {},
     "output_type": "execute_result"
    }
   ],
   "source": [
    "data13.Nível.value_counts()"
   ]
  },
  {
   "cell_type": "code",
   "execution_count": 8,
   "metadata": {},
   "outputs": [
    {
     "data": {
      "text/plain": [
       "'Determinação de faixas da variável quantitativa: Renda Mensal Per Capita'"
      ]
     },
     "execution_count": 8,
     "metadata": {},
     "output_type": "execute_result"
    }
   ],
   "source": [
    "\"\"\"Determinação de faixas da variável quantitativa: Renda Mensal Per Capita\"\"\"\n",
    "\n",
    "#o número n, que é o tamanho da amostra, é equivalente ao número de linhas da amostra, ou seja, 119102. \n",
    "#o número de faixas deve ser a raíz de n \n",
    "#a amplitude de cada faixa deve ser definida por: (valor máximo - valor mínimo)/k"
   ]
  },
  {
   "cell_type": "code",
   "execution_count": 9,
   "metadata": {},
   "outputs": [
    {
     "name": "stdout",
     "output_type": "stream",
     "text": [
      "Número de Faixas = 345.1115761605223\n",
      "Amplitude =  237.6043160078154\n"
     ]
    }
   ],
   "source": [
    "n=119102\n",
    "k=math.sqrt(n)\n",
    "print(\"Número de Faixas =\", k)\n",
    "\n",
    "data13.Renda.describe()\n",
    "\n",
    "\n",
    "\n",
    "amplitude13=82000/k\n",
    "\n",
    "print(\"Amplitude = \", amplitude13)"
   ]
  },
  {
   "cell_type": "code",
   "execution_count": 10,
   "metadata": {
    "scrolled": true
   },
   "outputs": [
    {
     "data": {
      "text/plain": [
       "count    107769.000000\n",
       "mean       1129.770203\n",
       "std        1811.620920\n",
       "min           0.000000\n",
       "25%         371.000000\n",
       "50%         678.000000\n",
       "75%        1200.000000\n",
       "max       82000.000000\n",
       "Name: Renda, dtype: float64"
      ]
     },
     "execution_count": 10,
     "metadata": {},
     "output_type": "execute_result"
    }
   ],
   "source": [
    "data13.Renda.describe()"
   ]
  },
  {
   "cell_type": "code",
   "execution_count": 11,
   "metadata": {},
   "outputs": [
    {
     "name": "stdout",
     "output_type": "stream",
     "text": [
      "Frequências relativas:\n",
      "(0, 250]          12.533813\n",
      "(250, 500]        22.405183\n",
      "(500, 750]        21.201173\n",
      "(750, 1000]       12.544216\n",
      "(1000, 1250]       7.415114\n",
      "(1250, 1500]       6.233803\n",
      "(1500, 1750]       3.017119\n",
      "(1750, 2000]       2.935780\n",
      "(2000, 2250]       1.518018\n",
      "(2250, 2500]       1.617327\n",
      "(2500, 2750]       0.964721\n",
      "(2750, 3000]       1.176582\n",
      "(3000, 3250]       0.589237\n",
      "(3250, 3500]       0.725433\n",
      "(3500, 3750]       0.410480\n",
      "(3750, 4000]       0.652606\n",
      "(4000, 4250]       0.253476\n",
      "(4250, 4500]       0.387780\n",
      "(4500, 4750]       0.209969\n",
      "(4750, 5000]       0.479523\n",
      "(5000, 5250]       0.135250\n",
      "(5250, 5500]       0.231722\n",
      "(5500, 5750]       0.122955\n",
      "(5750, 6000]       0.250638\n",
      "(6000, 6250]       0.099310\n",
      "(6250, 6500]       0.134304\n",
      "(6500, 6750]       0.099310\n",
      "(6750, 7000]       0.169299\n",
      "(7000, 7250]       0.066206\n",
      "(7250, 7500]       0.102147\n",
      "                    ...    \n",
      "(74500, 74750]     0.000000\n",
      "(74750, 75000]     0.000000\n",
      "(75000, 75250]     0.000000\n",
      "(75250, 75500]     0.000000\n",
      "(75500, 75750]     0.000000\n",
      "(75750, 76000]     0.000000\n",
      "(76000, 76250]     0.000000\n",
      "(76250, 76500]     0.000000\n",
      "(76500, 76750]     0.000000\n",
      "(76750, 77000]     0.000000\n",
      "(77000, 77250]     0.000000\n",
      "(77250, 77500]     0.000000\n",
      "(77500, 77750]     0.000000\n",
      "(77750, 78000]     0.000000\n",
      "(78000, 78250]     0.000000\n",
      "(78250, 78500]     0.000000\n",
      "(78500, 78750]     0.000000\n",
      "(78750, 79000]     0.000000\n",
      "(79000, 79250]     0.000000\n",
      "(79250, 79500]     0.000000\n",
      "(79500, 79750]     0.000000\n",
      "(79750, 80000]     0.000946\n",
      "(80000, 80250]     0.000000\n",
      "(80250, 80500]     0.000000\n",
      "(80500, 80750]     0.000000\n",
      "(80750, 81000]     0.000000\n",
      "(81000, 81250]     0.000000\n",
      "(81250, 81500]     0.000000\n",
      "(81500, 81750]     0.000000\n",
      "(81750, 82000]     0.000946\n",
      "Name: Renda, Length: 328, dtype: float64 \n",
      "\n"
     ]
    }
   ],
   "source": [
    "faixa = range(0,82250,250)\n",
    "\n",
    "rendacat13 = pd.cut(data13.Renda, bins=faixa, right=True)\n",
    "print('Frequências relativas:')\n",
    "ut1 = (rendacat13.value_counts(sort=False, normalize=True)*100).round(decimals=20)\n",
    "print(ut1,'\\n')"
   ]
  },
  {
   "cell_type": "code",
   "execution_count": 12,
   "metadata": {},
   "outputs": [
    {
     "name": "stdout",
     "output_type": "stream",
     "text": [
      "DataFrame 2014\n"
     ]
    },
    {
     "data": {
      "text/html": [
       "<div>\n",
       "<style>\n",
       "    .dataframe thead tr:only-child th {\n",
       "        text-align: right;\n",
       "    }\n",
       "\n",
       "    .dataframe thead th {\n",
       "        text-align: left;\n",
       "    }\n",
       "\n",
       "    .dataframe tbody tr th {\n",
       "        vertical-align: top;\n",
       "    }\n",
       "</style>\n",
       "<table border=\"1\" class=\"dataframe\">\n",
       "  <thead>\n",
       "    <tr style=\"text-align: right;\">\n",
       "      <th></th>\n",
       "      <th>Região</th>\n",
       "      <th>MaterialParede</th>\n",
       "      <th>ÁguaCanalizada</th>\n",
       "      <th>DestinoLixo</th>\n",
       "      <th>InternetDomicílio</th>\n",
       "      <th>Renda</th>\n",
       "    </tr>\n",
       "  </thead>\n",
       "  <tbody>\n",
       "    <tr>\n",
       "      <th>2</th>\n",
       "      <td>Norte</td>\n",
       "      <td>Alvenaria</td>\n",
       "      <td>Sim</td>\n",
       "      <td>ColetaDireta</td>\n",
       "      <td>Não</td>\n",
       "      <td>350.0</td>\n",
       "    </tr>\n",
       "    <tr>\n",
       "      <th>3</th>\n",
       "      <td>Norte</td>\n",
       "      <td>MadeiraAparelhada</td>\n",
       "      <td>Sim</td>\n",
       "      <td>ColetaDireta</td>\n",
       "      <td>Não</td>\n",
       "      <td>339.0</td>\n",
       "    </tr>\n",
       "    <tr>\n",
       "      <th>4</th>\n",
       "      <td>Norte</td>\n",
       "      <td>Alvenaria</td>\n",
       "      <td>Sim</td>\n",
       "      <td>ColetaDireta</td>\n",
       "      <td>Não</td>\n",
       "      <td>266.0</td>\n",
       "    </tr>\n",
       "    <tr>\n",
       "      <th>5</th>\n",
       "      <td>Norte</td>\n",
       "      <td>Alvenaria</td>\n",
       "      <td>Sim</td>\n",
       "      <td>ColetaDireta</td>\n",
       "      <td>Não</td>\n",
       "      <td>400.0</td>\n",
       "    </tr>\n",
       "    <tr>\n",
       "      <th>6</th>\n",
       "      <td>Norte</td>\n",
       "      <td>Alvenaria</td>\n",
       "      <td>Sim</td>\n",
       "      <td>ColetaDireta</td>\n",
       "      <td>Não</td>\n",
       "      <td>411.0</td>\n",
       "    </tr>\n",
       "  </tbody>\n",
       "</table>\n",
       "</div>"
      ],
      "text/plain": [
       "  Região     MaterialParede ÁguaCanalizada   DestinoLixo InternetDomicílio  \\\n",
       "2  Norte          Alvenaria            Sim  ColetaDireta               Não   \n",
       "3  Norte  MadeiraAparelhada            Sim  ColetaDireta               Não   \n",
       "4  Norte          Alvenaria            Sim  ColetaDireta               Não   \n",
       "5  Norte          Alvenaria            Sim  ColetaDireta               Não   \n",
       "6  Norte          Alvenaria            Sim  ColetaDireta               Não   \n",
       "\n",
       "   Renda  \n",
       "2  350.0  \n",
       "3  339.0  \n",
       "4  266.0  \n",
       "5  400.0  \n",
       "6  411.0  "
      ]
     },
     "execution_count": 12,
     "metadata": {},
     "output_type": "execute_result"
    }
   ],
   "source": [
    "'''Delimitando Dataframe 2014'''\n",
    "\n",
    "data14 = pd.DataFrame(pnad13.loc[:,['Reg','V0203','V0211','V0218','V02322','V4621']]).dropna()\n",
    "\n",
    "data14.columns=['Região','MaterialParede', 'ÁguaCanalizada', 'DestinoLixo','InternetDomicílio', 'RendMensalPerCapita']\n",
    "\n",
    "\n",
    "data14.loc[(data14.RendMensalPerCapita != 999999999999), \"Renda\"] = data14.RendMensalPerCapita\n",
    "\n",
    "data14 = data14.drop('RendMensalPerCapita', 1)\n",
    "\n",
    "print(\"DataFrame 2014\")\n",
    "data14.head()"
   ]
  },
  {
   "cell_type": "code",
   "execution_count": 13,
   "metadata": {},
   "outputs": [
    {
     "name": "stdout",
     "output_type": "stream",
     "text": [
      "DataFrame 2015\n"
     ]
    },
    {
     "data": {
      "text/html": [
       "<div>\n",
       "<style>\n",
       "    .dataframe thead tr:only-child th {\n",
       "        text-align: right;\n",
       "    }\n",
       "\n",
       "    .dataframe thead th {\n",
       "        text-align: left;\n",
       "    }\n",
       "\n",
       "    .dataframe tbody tr th {\n",
       "        vertical-align: top;\n",
       "    }\n",
       "</style>\n",
       "<table border=\"1\" class=\"dataframe\">\n",
       "  <thead>\n",
       "    <tr style=\"text-align: right;\">\n",
       "      <th></th>\n",
       "      <th>Região</th>\n",
       "      <th>MaterialParede</th>\n",
       "      <th>ÁguaCanalizada</th>\n",
       "      <th>DestinoLixo</th>\n",
       "      <th>InternetDomicílio</th>\n",
       "      <th>Renda</th>\n",
       "    </tr>\n",
       "  </thead>\n",
       "  <tbody>\n",
       "    <tr>\n",
       "      <th>2</th>\n",
       "      <td>Norte</td>\n",
       "      <td>Alvenaria</td>\n",
       "      <td>Sim</td>\n",
       "      <td>ColetaDireta</td>\n",
       "      <td>Não</td>\n",
       "      <td>350.0</td>\n",
       "    </tr>\n",
       "    <tr>\n",
       "      <th>3</th>\n",
       "      <td>Norte</td>\n",
       "      <td>MadeiraAparelhada</td>\n",
       "      <td>Sim</td>\n",
       "      <td>ColetaDireta</td>\n",
       "      <td>Não</td>\n",
       "      <td>339.0</td>\n",
       "    </tr>\n",
       "    <tr>\n",
       "      <th>4</th>\n",
       "      <td>Norte</td>\n",
       "      <td>Alvenaria</td>\n",
       "      <td>Sim</td>\n",
       "      <td>ColetaDireta</td>\n",
       "      <td>Não</td>\n",
       "      <td>266.0</td>\n",
       "    </tr>\n",
       "    <tr>\n",
       "      <th>5</th>\n",
       "      <td>Norte</td>\n",
       "      <td>Alvenaria</td>\n",
       "      <td>Sim</td>\n",
       "      <td>ColetaDireta</td>\n",
       "      <td>Não</td>\n",
       "      <td>400.0</td>\n",
       "    </tr>\n",
       "    <tr>\n",
       "      <th>6</th>\n",
       "      <td>Norte</td>\n",
       "      <td>Alvenaria</td>\n",
       "      <td>Sim</td>\n",
       "      <td>ColetaDireta</td>\n",
       "      <td>Não</td>\n",
       "      <td>411.0</td>\n",
       "    </tr>\n",
       "  </tbody>\n",
       "</table>\n",
       "</div>"
      ],
      "text/plain": [
       "  Região     MaterialParede ÁguaCanalizada   DestinoLixo InternetDomicílio  \\\n",
       "2  Norte          Alvenaria            Sim  ColetaDireta               Não   \n",
       "3  Norte  MadeiraAparelhada            Sim  ColetaDireta               Não   \n",
       "4  Norte          Alvenaria            Sim  ColetaDireta               Não   \n",
       "5  Norte          Alvenaria            Sim  ColetaDireta               Não   \n",
       "6  Norte          Alvenaria            Sim  ColetaDireta               Não   \n",
       "\n",
       "   Renda  \n",
       "2  350.0  \n",
       "3  339.0  \n",
       "4  266.0  \n",
       "5  400.0  \n",
       "6  411.0  "
      ]
     },
     "execution_count": 13,
     "metadata": {},
     "output_type": "execute_result"
    }
   ],
   "source": [
    "'''Delimitando Dataframe 2015'''\n",
    "\n",
    "data15 = pd.DataFrame(pnad13.loc[:,['Reg','V0203','V0211','V0218','V02322','V4621']]).dropna()\n",
    "\n",
    "data15.columns=['Região','MaterialParede', 'ÁguaCanalizada', 'DestinoLixo','InternetDomicílio', 'RendMensalPerCapita']\n",
    "\n",
    "data15.loc[(data15.RendMensalPerCapita != 999999999999), \"Renda\"] = data15.RendMensalPerCapita\n",
    "\n",
    "data15 = data15.drop('RendMensalPerCapita', 1)\n",
    "\n",
    "print(\"DataFrame 2015\")\n",
    "data15.head()"
   ]
  },
  {
   "cell_type": "code",
   "execution_count": 14,
   "metadata": {},
   "outputs": [
    {
     "name": "stdout",
     "output_type": "stream",
     "text": [
      "MATERIAL PAREDE\n"
     ]
    },
    {
     "data": {
      "text/plain": [
       "Alvenaria             90.98\n",
       "MadeiraAparelhada      7.63\n",
       "TaipaRevestida         0.72\n",
       "MadeiraAproveitada     0.42\n",
       "Palha                  0.03\n",
       "Outro                  0.22\n",
       "Name: MaterialParede, dtype: float64"
      ]
     },
     "execution_count": 14,
     "metadata": {},
     "output_type": "execute_result"
    }
   ],
   "source": [
    "print('MATERIAL PAREDE')\n",
    "\n",
    "parede15 = (data15.MaterialParede.value_counts(sort=False, normalize=True)*100).round(decimals=2)\n",
    "\n",
    "parede15\n"
   ]
  },
  {
   "cell_type": "code",
   "execution_count": 15,
   "metadata": {},
   "outputs": [
    {
     "name": "stdout",
     "output_type": "stream",
     "text": [
      "MATERIAL TELHADO\n"
     ]
    },
    {
     "ename": "AttributeError",
     "evalue": "'DataFrame' object has no attribute 'MaterialTelhado'",
     "output_type": "error",
     "traceback": [
      "\u001b[1;31m---------------------------------------------------------------------------\u001b[0m",
      "\u001b[1;31mAttributeError\u001b[0m                            Traceback (most recent call last)",
      "\u001b[1;32m<ipython-input-15-0e71fbc2fcb6>\u001b[0m in \u001b[0;36m<module>\u001b[1;34m()\u001b[0m\n\u001b[0;32m      1\u001b[0m \u001b[0mprint\u001b[0m\u001b[1;33m(\u001b[0m\u001b[1;34m'MATERIAL TELHADO'\u001b[0m\u001b[1;33m)\u001b[0m\u001b[1;33m\u001b[0m\u001b[0m\n\u001b[0;32m      2\u001b[0m \u001b[1;33m\u001b[0m\u001b[0m\n\u001b[1;32m----> 3\u001b[1;33m \u001b[0mtelhado15\u001b[0m \u001b[1;33m=\u001b[0m \u001b[1;33m(\u001b[0m\u001b[0mdata15\u001b[0m\u001b[1;33m.\u001b[0m\u001b[0mMaterialTelhado\u001b[0m\u001b[1;33m.\u001b[0m\u001b[0mvalue_counts\u001b[0m\u001b[1;33m(\u001b[0m\u001b[0msort\u001b[0m\u001b[1;33m=\u001b[0m\u001b[1;32mFalse\u001b[0m\u001b[1;33m,\u001b[0m \u001b[0mnormalize\u001b[0m\u001b[1;33m=\u001b[0m\u001b[1;32mTrue\u001b[0m\u001b[1;33m)\u001b[0m\u001b[1;33m*\u001b[0m\u001b[1;36m100\u001b[0m\u001b[1;33m)\u001b[0m\u001b[1;33m.\u001b[0m\u001b[0mround\u001b[0m\u001b[1;33m(\u001b[0m\u001b[0mdecimals\u001b[0m\u001b[1;33m=\u001b[0m\u001b[1;36m2\u001b[0m\u001b[1;33m)\u001b[0m\u001b[1;33m\u001b[0m\u001b[0m\n\u001b[0m\u001b[0;32m      4\u001b[0m \u001b[1;33m\u001b[0m\u001b[0m\n\u001b[0;32m      5\u001b[0m \u001b[0mtelhado15\u001b[0m\u001b[1;33m\u001b[0m\u001b[0m\n",
      "\u001b[1;32mC:\\Users\\steph\\Anaconda3.0\\lib\\site-packages\\pandas\\core\\generic.py\u001b[0m in \u001b[0;36m__getattr__\u001b[1;34m(self, name)\u001b[0m\n\u001b[0;32m   2968\u001b[0m             \u001b[1;32mif\u001b[0m \u001b[0mname\u001b[0m \u001b[1;32min\u001b[0m \u001b[0mself\u001b[0m\u001b[1;33m.\u001b[0m\u001b[0m_info_axis\u001b[0m\u001b[1;33m:\u001b[0m\u001b[1;33m\u001b[0m\u001b[0m\n\u001b[0;32m   2969\u001b[0m                 \u001b[1;32mreturn\u001b[0m \u001b[0mself\u001b[0m\u001b[1;33m[\u001b[0m\u001b[0mname\u001b[0m\u001b[1;33m]\u001b[0m\u001b[1;33m\u001b[0m\u001b[0m\n\u001b[1;32m-> 2970\u001b[1;33m             \u001b[1;32mreturn\u001b[0m \u001b[0mobject\u001b[0m\u001b[1;33m.\u001b[0m\u001b[0m__getattribute__\u001b[0m\u001b[1;33m(\u001b[0m\u001b[0mself\u001b[0m\u001b[1;33m,\u001b[0m \u001b[0mname\u001b[0m\u001b[1;33m)\u001b[0m\u001b[1;33m\u001b[0m\u001b[0m\n\u001b[0m\u001b[0;32m   2971\u001b[0m \u001b[1;33m\u001b[0m\u001b[0m\n\u001b[0;32m   2972\u001b[0m     \u001b[1;32mdef\u001b[0m \u001b[0m__setattr__\u001b[0m\u001b[1;33m(\u001b[0m\u001b[0mself\u001b[0m\u001b[1;33m,\u001b[0m \u001b[0mname\u001b[0m\u001b[1;33m,\u001b[0m \u001b[0mvalue\u001b[0m\u001b[1;33m)\u001b[0m\u001b[1;33m:\u001b[0m\u001b[1;33m\u001b[0m\u001b[0m\n",
      "\u001b[1;31mAttributeError\u001b[0m: 'DataFrame' object has no attribute 'MaterialTelhado'"
     ]
    }
   ],
   "source": [
    "print('MATERIAL TELHADO')\n",
    "\n",
    "telhado15 = (data15.MaterialTelhado.value_counts(sort=False, normalize=True)*100).round(decimals=2)\n",
    "\n",
    "telhado15"
   ]
  },
  {
   "cell_type": "code",
   "execution_count": null,
   "metadata": {},
   "outputs": [],
   "source": [
    "print('ÁGUA CANALIZADA')\n",
    "\n",
    "agua15 = (data15.ÁguaCanalizada.value_counts(sort=False, normalize=True)*100).round(decimals=2)\n",
    "\n",
    "agua15"
   ]
  },
  {
   "cell_type": "code",
   "execution_count": null,
   "metadata": {},
   "outputs": [],
   "source": [
    "print('BANHEIRO DOMICÍLIO')\n",
    "\n",
    "banheiro15 = (data15.BanheiroDomicílio.value_counts(sort=False, normalize=True)*100).round(decimals=2)\n",
    "\n",
    "banheiro15\n"
   ]
  },
  {
   "cell_type": "code",
   "execution_count": null,
   "metadata": {
    "scrolled": true
   },
   "outputs": [],
   "source": [
    "print('DESTINO LIXO')\n",
    "\n",
    "lixo15 = (data15.DestinoLixo.value_counts(sort=False, normalize=True)*100).round(decimals=2)\n",
    "\n",
    "lixo15\n"
   ]
  },
  {
   "cell_type": "code",
   "execution_count": null,
   "metadata": {},
   "outputs": [],
   "source": [
    "print('INTERNET DOMICÍLIO 2013')\n",
    "\n",
    "internet13 = (data13.InternetDomicílio.value_counts(sort=False, normalize=True)*100).round(decimals=8)\n",
    "\n",
    "internet13"
   ]
  },
  {
   "cell_type": "code",
   "execution_count": null,
   "metadata": {},
   "outputs": [],
   "source": [
    "print('INTERNET DOMICÍLIO 2014')\n",
    "\n",
    "internet14 = (data14.InternetDomicílio.value_counts(sort=False, normalize=True)*100).round(decimals=8)\n",
    "\n",
    "internet14"
   ]
  },
  {
   "cell_type": "code",
   "execution_count": null,
   "metadata": {
    "scrolled": true
   },
   "outputs": [],
   "source": [
    "print('INTERNET DOMICÍLIO 2015')\n",
    "\n",
    "internet15 = (data15.InternetDomicílio.value_counts(sort=False, normalize=True)*100).round(decimals=2)\n",
    "\n",
    "internet15"
   ]
  },
  {
   "cell_type": "code",
   "execution_count": null,
   "metadata": {},
   "outputs": [],
   "source": [
    "'''Evolução da Internet'''\n",
    "colors=['g', 'r']\n",
    "fig = plt.figure(figsize=(15, 5))\n",
    "plt.subplot(131)\n",
    "plot = internet13.plot(kind='pie',title='2013', colors=colors ,autopct='%.1f')\n",
    "\n",
    "\n",
    "plt.subplot(132)\n",
    "plot = internet14.plot(kind='pie',title='2014', colors=colors ,autopct='%.1f')\n",
    "\n",
    "plt.subplot(133)\n",
    "plot = internet15.plot(kind='pie',title='2015', colors=colors ,autopct='%.1f')\n",
    "\n",
    "plt.tight_layout()\n",
    "plt.show()\n",
    "\n"
   ]
  },
  {
   "cell_type": "code",
   "execution_count": null,
   "metadata": {},
   "outputs": [],
   "source": [
    "#Tabela cruzada Internet x Região\n",
    "print('Tabela Cruzada: Internet por Região em 2015 - geral')\n",
    "ct=pd.crosstab(data15.Região, data15.InternetDomicílio, margins=True, rownames=['Região'], colnames=['Situação Internet'])\n",
    "ct=ct.loc[['Norte','Nordeste','Sudeste', 'Sul','Centro-Oeste','All']]\n",
    "ct"
   ]
  },
  {
   "cell_type": "code",
   "execution_count": null,
   "metadata": {
    "collapsed": true
   },
   "outputs": [],
   "source": [
    "#print('Tabela Cruzada: Internet por Região em 2015 em % ')\n",
    "#ctp=(pd.crosstab(data15.Região, data15.InternetDomicílio, margins=True, rownames=['Região'], colnames=['Situação Internet'], normalize=True)*100).round(decimals=1)\n",
    "#ctp"
   ]
  },
  {
   "cell_type": "code",
   "execution_count": null,
   "metadata": {},
   "outputs": [],
   "source": [
    "print('Tabela Cruzada por total de Regiões/Linhas em % - 2015')\n",
    "ctx=(pd.crosstab(data15.Região, data15.InternetDomicílio, margins=True,  rownames=['Região'], colnames=['Situação Internet'], normalize='index')*100).round(decimals=1)\n",
    "ctx\n"
   ]
  },
  {
   "cell_type": "code",
   "execution_count": null,
   "metadata": {},
   "outputs": [],
   "source": [
    "plot = ctx.plot(kind='bar', stacked=True,title='Presença de Internet em Domicílio em cada Região em 2015', color=('g', 'r'))\n",
    "plt.ylabel('Freq.Relativa (em %)')\n",
    "\n",
    "#Para legenda ficar fora do gráfico\n",
    "ax = plt.subplot(111)\n",
    "box = ax.get_position()\n",
    "ax.set_position([box.x0, box.y0, box.width * 0.8, box.height])\n",
    "ax.legend(loc='center left', bbox_to_anchor=(1, 0.5))"
   ]
  },
  {
   "cell_type": "code",
   "execution_count": null,
   "metadata": {
    "collapsed": true
   },
   "outputs": [],
   "source": [
    "## Conclusão"
   ]
  },
  {
   "cell_type": "markdown",
   "metadata": {
    "collapsed": true
   },
   "source": [
    "Descreva aqui suas conclusões!"
   ]
  },
  {
   "cell_type": "code",
   "execution_count": null,
   "metadata": {
    "collapsed": true
   },
   "outputs": [],
   "source": []
  },
  {
   "cell_type": "code",
   "execution_count": null,
   "metadata": {
    "collapsed": true
   },
   "outputs": [],
   "source": []
  }
 ],
 "metadata": {
  "anaconda-cloud": {},
  "kernelspec": {
   "display_name": "Python 3",
   "language": "python",
   "name": "python3"
  },
  "language_info": {
   "codemirror_mode": {
    "name": "ipython",
    "version": 3
   },
   "file_extension": ".py",
   "mimetype": "text/x-python",
   "name": "python",
   "nbconvert_exporter": "python",
   "pygments_lexer": "ipython3",
   "version": "3.6.1"
  }
 },
 "nbformat": 4,
 "nbformat_minor": 1
}
